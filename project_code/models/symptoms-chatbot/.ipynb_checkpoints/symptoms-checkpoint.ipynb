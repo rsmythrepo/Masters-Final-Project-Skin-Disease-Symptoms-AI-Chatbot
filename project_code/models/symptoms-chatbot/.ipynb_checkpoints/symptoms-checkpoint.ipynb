{
 "cells": [
  {
   "cell_type": "code",
   "execution_count": 1,
   "metadata": {},
   "outputs": [],
   "source": [
    "import pandas as pd\n",
    "import numpy as np\n",
    "import matplotlib.pyplot as plt\n",
    "import matplotlib.colors as colors\n",
    "import seaborn as sns\n",
    "from IPython.display import HTML\n",
    "import random\n",
    "import re\n",
    "import networkx as nx\n",
    "# import nltk\n",
    "# from nltk.corpus import stopwords\n",
    "\n",
    "%matplotlib inline"
   ]
  },
  {
   "cell_type": "code",
   "execution_count": 2,
   "metadata": {},
   "outputs": [],
   "source": [
    "df = pd.read_excel('symptoms.xlsx')\n",
    "\n",
    "# we replace the whitespaces and then the '_' character by an space\n",
    "for col in df.columns:\n",
    "    if 'Symptom' in col:\n",
    "        df[col] = df[col].str.replace(' ', '').str.replace('_', ' ')"
   ]
  },
  {
   "cell_type": "code",
   "execution_count": 3,
   "metadata": {},
   "outputs": [],
   "source": [
    "df_desc = pd.read_excel('symptoms.xlsx', sheet_name='symptom_Description')\n",
    "df_prec = pd.read_excel('symptoms.xlsx', sheet_name='symptom_precaution')"
   ]
  },
  {
   "cell_type": "markdown",
   "metadata": {},
   "source": [
    "# Analyzing the data and building some analysis"
   ]
  },
  {
   "cell_type": "code",
   "execution_count": 4,
   "metadata": {},
   "outputs": [],
   "source": [
    "symptom_freqs = df.iloc[:,1:].stack().value_counts()\n",
    "symptom_freqs = pd.DataFrame(symptom_freqs) \n",
    "symptom_freqs.index.name = 'Symptom'\n",
    "symptom_freqs = symptom_freqs.reset_index() \n",
    "symptom_freqs = symptom_freqs.rename(columns={'count':'frequency'})\n"
   ]
  },
  {
   "cell_type": "code",
   "execution_count": 5,
   "metadata": {},
   "outputs": [],
   "source": [
    "symptoms = list(symptom_freqs['Symptom'].unique())\n",
    "diseases = list(df['Disease'].unique())"
   ]
  },
  {
   "cell_type": "code",
   "execution_count": 6,
   "metadata": {},
   "outputs": [
    {
     "name": "stdout",
     "output_type": "stream",
     "text": [
      "There are 131 symptoms described in the dataset\n",
      "and also 41 diseases described in the dataset\n"
     ]
    }
   ],
   "source": [
    "print('There are {} symptoms described in the dataset'.format(len(symptoms)))\n",
    "print('and also {} diseases described in the dataset'.format(len(diseases)))"
   ]
  },
  {
   "cell_type": "code",
   "execution_count": 7,
   "metadata": {},
   "outputs": [],
   "source": [
    "adj_mat = np.zeros((len(symptoms),len(diseases)))\n",
    "\n",
    "for i in range(len(df)):\n",
    "    for j in range(1, 18):\n",
    "        disease = df.iloc[i,0]\n",
    "        symptom = df.iloc[i,j]\n",
    "        if pd.notnull(symptom):\n",
    "            symptom = symptom.strip()  # strip leading and trailing whitespace (after and before each symptom names)\n",
    "            dis_index = diseases.index(disease)\n",
    "            sym_index = symptoms.index(symptom)\n",
    "            adj_mat[sym_index, dis_index] += 1\n",
    "        else:\n",
    "            pass"
   ]
  },
  {
   "cell_type": "markdown",
   "metadata": {},
   "source": [
    "# Naive Bayes Classifier"
   ]
  },
  {
   "cell_type": "code",
   "execution_count": 8,
   "metadata": {},
   "outputs": [],
   "source": [
    "non_diagnosis_responses = ['I cannot give you a possible diagnosis','Please, try it again','Please, give me more details','I do not understand what you mean']\n",
    "\n",
    "def bayesian_classifier(adj_mat, symptom_list, symptoms, diseases):\n",
    "    \n",
    "    # Use re.sub() to remove the special characters from each symptom in the symptom_list\n",
    "    cleaned_symptom_list = [re.sub(r'[:;¿?¡!-]', '', s).strip().lower() for s in symptom_list]\n",
    "\n",
    "    # Convert the cleaned symptom list to indices, assuming the symptoms are found in the cleaned list\n",
    "    sym = [symptoms.index(s) for s in cleaned_symptom_list if s in symptoms]\n",
    "\n",
    "    # sym = [symptoms.index(s) for s in symptom_list]\n",
    "    p_dis = adj_mat.sum(axis=0) / adj_mat.sum()\n",
    "    p_sym = adj_mat.sum(axis=1) / adj_mat.sum()\n",
    "    dist = []\n",
    "\n",
    "    for i in range(len(diseases)):\n",
    "        # computing the bayes probability\n",
    "        prob = np.prod((adj_mat[:,i] / adj_mat[:,i].sum())[sym]) * p_dis[i] / np.prod(p_sym[sym])\n",
    "        dist.append(prob)\n",
    "    \n",
    "    if sum(dist) == 0:\n",
    "        return non_diagnosis_responses[random.randrange(4)]\n",
    "    else:\n",
    "        idx = dist.index(max(dist))\n",
    "        return diseases[idx]"
   ]
  },
  {
   "cell_type": "code",
   "execution_count": 9,
   "metadata": {},
   "outputs": [],
   "source": [
    "def print_precautions(diseases, df_prec):\n",
    "\n",
    "    precautions = df_prec[df_prec['Disease'].str.lower() == diseases.lower()].iloc[0]\n",
    "    print('Recommended precautions:')\n",
    "    for i in range(1, 5):\n",
    "        print(f\"- {precautions[f'Precaution_{i}']}\")"
   ]
  },
  {
   "cell_type": "code",
   "execution_count": 10,
   "metadata": {},
   "outputs": [],
   "source": [
    "def print_description(disease, df_desc):\n",
    "\n",
    "    desc = df_desc['Disease'].str.lower() == disease.lower()\n",
    "    if desc.any():\n",
    "        description = df_desc.loc[desc, 'Description'].iloc[0]\n",
    "        print(f'{description}\\n')\n",
    "    else:\n",
    "        ''"
   ]
  },
  {
   "cell_type": "code",
   "execution_count": 11,
   "metadata": {},
   "outputs": [
    {
     "name": "stdout",
     "output_type": "stream",
     "text": [
      "Please enter your symptoms separated by commas from the list below:\n",
      "\n",
      "['continuous sneezing', 'shivering', 'chills']\n",
      "\n",
      "The most likely diagnosis is: Allergy\n",
      "\n",
      "An allergy is an immune system response to a foreign substance that's not typically harmful to your body.They can include certain foods, pollen, or pet dander. Your immune system's job is to keep you healthy by fighting harmful pathogens.\n",
      "\n",
      "Recommended precautions:\n",
      "- apply calamine\n",
      "- cover area with bandage\n",
      "- nan\n",
      "- use ice to compress itching\n"
     ]
    }
   ],
   "source": [
    "print('Please enter your symptoms separated by commas from the list below:')\n",
    "# print(\", \".join(symptoms))\n",
    "\n",
    "# Get user input and process it\n",
    "user_input = input('Enter symptoms: ')\n",
    "# remove this special characters r'''[.:;¿?¡!'\"=+/\\[\\]{}()`~@$%^&*\\d|]'''\n",
    "cleaned_input = re.sub(r'''[.:;¿?¡!\\<>'\"=+/\\[\\]{}()`~@$%^&*|\\d\\\\]''', '', user_input)\n",
    "cleaned_input = cleaned_input.replace('_', ' ').replace('-', ' ')\n",
    "user_symptoms = [sym.strip() for sym in cleaned_input.split(',') if sym.strip() in symptoms]\n",
    "\n",
    "# Check if the user entered symptoms that are in the list\n",
    "if not user_symptoms:\n",
    "    non_diagnosis_responses[random.randrange(4)]\n",
    "else:\n",
    "    # Call the bayesian_classifier function\n",
    "    diagnosis = bayesian_classifier(adj_mat, user_symptoms, symptoms, diseases)\n",
    "    print(f'\\n{user_symptoms}')\n",
    "    print(f'\\nThe most likely diagnosis is: {diagnosis}\\n')\n",
    "    print_description(diagnosis, df_desc)\n",
    "    print_precautions(diagnosis, df_prec)\n",
    "\n",
    "# I have an continuous sneezing', fatigue\"!?, and high fever!\n",
    "# continuous sneezing,shivering, chills,\n",
    "# diarrhoea, vomiting"
   ]
  }
 ],
 "metadata": {
  "kernelspec": {
   "display_name": "m-bts",
   "language": "python",
   "name": "python3"
  },
  "language_info": {
   "codemirror_mode": {
    "name": "ipython",
    "version": 3
   },
   "file_extension": ".py",
   "mimetype": "text/x-python",
   "name": "python",
   "nbconvert_exporter": "python",
   "pygments_lexer": "ipython3",
   "version": "3.10.13"
  }
 },
 "nbformat": 4,
 "nbformat_minor": 2
}
