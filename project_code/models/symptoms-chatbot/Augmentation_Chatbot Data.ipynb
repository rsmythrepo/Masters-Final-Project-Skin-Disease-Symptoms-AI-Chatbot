{
 "cells": [
  {
   "cell_type": "code",
   "execution_count": 1,
   "id": "8dd4d1b7",
   "metadata": {},
   "outputs": [],
   "source": [
    "import json\n",
    "from nltk.corpus import wordnet\n",
    "\n",
    "def get_synonyms(word):\n",
    "    synonyms = set()\n",
    "    for syn in wordnet.synsets(word):\n",
    "        for lemma in syn.lemmas():\n",
    "            synonyms.add(lemma.name())\n",
    "    return list(synonyms)\n",
    "\n",
    "def augment_data(data):\n",
    "    new_data = {\"intents\": []}\n",
    "    for intent in data['intents']:\n",
    "        new_patterns = []\n",
    "        for pattern in intent['patterns']:\n",
    "            words = pattern.split()\n",
    "            for i in range(len(words)):\n",
    "                synonyms = get_synonyms(words[i])\n",
    "                if synonyms:\n",
    "                    new_pattern = words[:i] + [synonyms[0]] + words[i+1:]\n",
    "                    new_patterns.append(\" \".join(new_pattern))\n",
    "            new_patterns.append(pattern)  # Include the original pattern\n",
    "        new_intent = {\n",
    "            \"tag\": intent['tag'],\n",
    "            \"patterns\": list(set(new_patterns)),  # Remove any duplicates\n",
    "            \"responses\": intent['responses']\n",
    "        }\n",
    "        new_data['intents'].append(new_intent)\n",
    "    return new_data\n",
    "\n",
    "# Load your JSON file\n",
    "with open('intents.json', 'r') as file:\n",
    "    data = json.load(file)\n",
    "\n",
    "# Augment data\n",
    "augmented_data = augment_data(data)\n",
    "\n",
    "# Save the augmented data\n",
    "with open('augmented_intents.json', 'w') as file:\n",
    "    json.dump(augmented_data, file, indent=4)"
   ]
  },
  {
   "cell_type": "code",
   "execution_count": null,
   "id": "b9a3db85",
   "metadata": {},
   "outputs": [],
   "source": []
  }
 ],
 "metadata": {
  "kernelspec": {
   "display_name": "Python 3 (ipykernel)",
   "language": "python",
   "name": "python3"
  },
  "language_info": {
   "codemirror_mode": {
    "name": "ipython",
    "version": 3
   },
   "file_extension": ".py",
   "mimetype": "text/x-python",
   "name": "python",
   "nbconvert_exporter": "python",
   "pygments_lexer": "ipython3",
   "version": "3.11.4"
  }
 },
 "nbformat": 4,
 "nbformat_minor": 5
}
